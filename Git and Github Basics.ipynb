{
 "cells": [
  {
   "cell_type": "markdown",
   "id": "d7beb356",
   "metadata": {},
   "source": [
    "#Step1: Git Installation\n",
    "#Go to git-scm.com -->download-->Install\n",
    "#On Sucessful Installation we Git Bash Icon-->open and git version (enter)\n",
    "\n",
    "#Step2: Github Registration\n",
    "#go to github.com and signup with your details\n",
    "#Login, create a repository\n",
    "#Copy the repository URL\n",
    "\n",
    "#Step3: Open Git Bash\n",
    "\n",
    "Git Commenads:\n",
    "------------------------\n",
    "pwd-->present working directory\n",
    "ls -->list of contents in the directory\n",
    "ls -l-->long listing of contents (more details)\n",
    "mk_dir foldername -->to create a folder\n",
    "cd foldername -->to go into the folder\n",
    "cd ..  --> one step backwards\n",
    "touch a.txt-->creating empty file\n",
    "cat a.txt-->to see contens of a file\n",
    "ls -la-->listing of hidden files\n",
    "touch .filename--> (. before any name creates hidden file)\n",
    "vim filenmae (i for insert,ESC,:wq)-->file editor\n",
    "clear -->clear screen\n",
    "\n",
    "git init -->(intializing, creating a normal folder to git repoitory,if you do ls -la we see .git and (main))\n",
    "\n",
    "configuration commands:\n",
    "------------------------------------\n",
    "git config --global --list -->tell whether it is configured or not\n",
    "git config --global user.name 'Venkatesh Vandana' -->name\n",
    "git config --global user.email 'email add' -->enter email address\n",
    "(if you do git config --global --list you will now see username and email)\n",
    "git status -->to know the status of repository\n",
    "git branch -m main master -->command to chage main to master\n",
    "git add a.py -->adding file to staging area (check git status)(git add a.py b.py or git *.py -->multiple files)\n",
    "git rm --cached a.py -->unstaging file\n",
    "git commit -m 'comment' -->adding file from staging to git local repository\n",
    "git log -->commit history\n",
    "git remote -v -->give remote linking details\n",
    "git remote add origin https...-->linking\n",
    "git branch -->shows the branch we created\n",
    "git push -u origin master-->pushing file(you need to authorize)\n",
    "git clone http(cloning from github to local)\n",
    "\n",
    "\n",
    "Git Hub:\n",
    "------------\n",
    "Create a Respoitory, copy the url to link this to local repository\n"
   ]
  }
 ],
 "metadata": {
  "kernelspec": {
   "display_name": "Python 3",
   "language": "python",
   "name": "python3"
  },
  "language_info": {
   "codemirror_mode": {
    "name": "ipython",
    "version": 3
   },
   "file_extension": ".py",
   "mimetype": "text/x-python",
   "name": "python",
   "nbconvert_exporter": "python",
   "pygments_lexer": "ipython3",
   "version": "3.8.8"
  }
 },
 "nbformat": 4,
 "nbformat_minor": 5
}
